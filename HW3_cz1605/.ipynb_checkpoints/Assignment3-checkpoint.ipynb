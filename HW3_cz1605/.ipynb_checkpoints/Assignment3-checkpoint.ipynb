{
 "cells": [
  {
   "cell_type": "markdown",
   "metadata": {},
   "source": [
    "## Null Hypothesis:\n",
    "## The new commute time is the same or larger as the old commute time\n",
    "## H0: Ntime >= Otime\n",
    "## Ha: Ntime < Otime"
   ]
  },
  {
   "cell_type": "code",
   "execution_count": 22,
   "metadata": {
    "collapsed": true
   },
   "outputs": [],
   "source": [
    "import numpy as np\n",
    "import pandas as pd\n",
    "import urllib as url\n",
    "import os"
   ]
  },
  {
   "cell_type": "code",
   "execution_count": 23,
   "metadata": {
    "collapsed": false
   },
   "outputs": [
    {
     "data": {
      "text/plain": [
       "array([ 32.82137636,  30.2291014 ,  31.41376587,  39.01055035,\n",
       "        34.82207891,  39.87188366,  39.57994562,  31.02658678,\n",
       "        27.66246068,  18.8752884 ,  46.2313731 ,  30.01522604,\n",
       "        47.6004104 ,  16.52726666,  42.4462331 ,  33.62527449,\n",
       "        42.28462558,  46.20520667,  30.87517392,  32.94800341,\n",
       "        26.17691512,  31.25699649,  35.33644554,  35.64072501,\n",
       "        40.32297174,  38.04348588,  29.4579793 ,  23.91636367,\n",
       "        34.56403521,  45.42782464,  38.95607754,  39.11396748,\n",
       "        39.67398759,  31.89148105,  22.62379325,  26.18910408,\n",
       "        43.54114213,  33.2607386 ,  31.67602384,  37.12846259,\n",
       "        38.22048496,  34.38814185,  36.11407371,  44.08064814,\n",
       "        29.59917161,  37.02411751,  41.60576556,  44.37860528,\n",
       "        38.06471077,  22.90526456,  40.27182857,  31.57979239,\n",
       "        25.88037795,  28.8913048 ,  44.33687925,  36.78948684,\n",
       "        43.46098875,  40.65557   ,  26.16634004,  25.13884784,\n",
       "        33.01581456,  32.87050073,  26.28557154,  39.44933037,\n",
       "        36.25528612,  40.719133  ,  40.57181545,  19.87166413,\n",
       "        43.21925286,  31.48102823,  37.14915056,  38.991504  ,\n",
       "        20.53059384,  27.80447692,  38.69933298,  30.0223142 ,\n",
       "        38.64884169,  26.40668884,  32.10224978,  28.31532754,\n",
       "        43.26195884,  40.3609407 ,  37.3025258 ,  31.45110181,\n",
       "        38.79599524,  36.92553372,  32.37167945,  23.25835631,\n",
       "        26.42613261,  48.74987653,  31.42512354,  46.80679298,\n",
       "        30.59748648,  20.7926322 ,  26.19785226,  42.7274097 ,\n",
       "        33.7314695 ,  37.23859057,  36.33984141])"
      ]
     },
     "execution_count": 23,
     "metadata": {},
     "output_type": "execute_result"
    }
   ],
   "source": [
    "Ntime=pd.read_csv('https://raw.githubusercontent.com/fedhere/PUI2017_fb55/master/Lab3_fb55/times.txt').values.squeeze()\n",
    "Ntime"
   ]
  },
  {
   "cell_type": "code",
   "execution_count": 24,
   "metadata": {
    "collapsed": true
   },
   "outputs": [],
   "source": [
    "z=(Ntime.mean()-36)/(6/(100)**0.5)"
   ]
  },
  {
   "cell_type": "code",
   "execution_count": 25,
   "metadata": {
    "collapsed": false
   },
   "outputs": [
    {
     "data": {
      "text/plain": [
       "False"
      ]
     },
     "execution_count": 25,
     "metadata": {},
     "output_type": "execute_result"
    }
   ],
   "source": [
    "z>1.96"
   ]
  },
  {
   "cell_type": "markdown",
   "metadata": {},
   "source": [
    "## As the H0: Ntime >= Otime and z>1.96, we reject H0 which means the new commute time is less than the old commute time."
   ]
  },
  {
   "cell_type": "code",
   "execution_count": null,
   "metadata": {
    "collapsed": true
   },
   "outputs": [],
   "source": []
  }
 ],
 "metadata": {
  "kernelspec": {
   "display_name": "PUI2016_Python2",
   "language": "python",
   "name": "pui2016_python2"
  },
  "language_info": {
   "codemirror_mode": {
    "name": "ipython",
    "version": 2
   },
   "file_extension": ".py",
   "mimetype": "text/x-python",
   "name": "python",
   "nbconvert_exporter": "python",
   "pygments_lexer": "ipython2",
   "version": "2.7.12"
  }
 },
 "nbformat": 4,
 "nbformat_minor": 0
}
