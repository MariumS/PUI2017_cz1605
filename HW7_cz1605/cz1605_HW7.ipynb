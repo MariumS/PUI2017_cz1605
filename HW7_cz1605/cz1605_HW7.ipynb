{
 "cells": [
  {
   "cell_type": "markdown",
   "metadata": {},
   "source": [
    "## IDEA:\n",
    "## Subscribers are less likely than Customers to choose biking for commuting\n",
    "## Null Hypothesis:\n",
    "## The ratio of Subscribers biking on weekends over Subscribers biking on the whole week is the same or higher than the ratio of Customers biking over weekends to Customers biking on the whole week\n",
    "## _$H_0$ : $\\frac{Sub{\\mathrm{weekend}}}{Sub{\\mathrm{week}}} >= \\frac{Cus{\\mathrm{weekend}}}{Cus_{\\mathrm{week}}}$\n",
    "## _$H_1$ : $\\frac{Sub{\\mathrm{weekend}}}{Sub{\\mathrm{week}}} < \\frac{Cus{\\mathrm{weekend}}}{Cus_{\\mathrm{week}}}$\n",
    "## I will use a significance level  $\\alpha=0.05$\n",
    "## which means i want the probability of getting a result at least as significant as mine to be less then 5%\n",
    "## I'm using the data of citibike in 201705"
   ]
  },
  {
   "cell_type": "code",
   "execution_count": 1,
   "metadata": {
    "collapsed": false
   },
   "outputs": [
    {
     "name": "stdout",
     "output_type": "stream",
     "text": [
      "Populating the interactive namespace from numpy and matplotlib\n"
     ]
    }
   ],
   "source": [
    "from __future__  import print_function, division\n",
    "import pylab as pl\n",
    "import pandas as pd\n",
    "import numpy as np\n",
    "import os\n",
    "import zipfile\n",
    "%pylab inline"
   ]
  },
  {
   "cell_type": "code",
   "execution_count": 2,
   "metadata": {
    "collapsed": true
   },
   "outputs": [],
   "source": [
    "zipFile =zipfile.ZipFile(\"/gws/open/Student/citibike/201705-citibike-tripdata.csv.zip\")"
   ]
  },
  {
   "cell_type": "code",
   "execution_count": 3,
   "metadata": {
    "collapsed": true
   },
   "outputs": [],
   "source": [
    "zipFile.extractall(path=(os.getenv('PUIDATA')+'/citibike/'))"
   ]
  },
  {
   "cell_type": "code",
   "execution_count": 4,
   "metadata": {
    "collapsed": true
   },
   "outputs": [],
   "source": [
    "df = pd.read_csv(os.getenv('PUIDATA')+'/citibike/201705-citibike-tripdata.csv')"
   ]
  },
  {
   "cell_type": "code",
   "execution_count": 5,
   "metadata": {
    "collapsed": false
   },
   "outputs": [
    {
     "data": {
      "text/html": [
       "<div>\n",
       "<table border=\"1\" class=\"dataframe\">\n",
       "  <thead>\n",
       "    <tr style=\"text-align: right;\">\n",
       "      <th></th>\n",
       "      <th>tripduration</th>\n",
       "      <th>starttime</th>\n",
       "      <th>stoptime</th>\n",
       "      <th>start station id</th>\n",
       "      <th>start station name</th>\n",
       "      <th>start station latitude</th>\n",
       "      <th>start station longitude</th>\n",
       "      <th>end station id</th>\n",
       "      <th>end station name</th>\n",
       "      <th>end station latitude</th>\n",
       "      <th>end station longitude</th>\n",
       "      <th>bikeid</th>\n",
       "      <th>usertype</th>\n",
       "      <th>birth year</th>\n",
       "      <th>gender</th>\n",
       "    </tr>\n",
       "  </thead>\n",
       "  <tbody>\n",
       "    <tr>\n",
       "      <th>0</th>\n",
       "      <td>254</td>\n",
       "      <td>2017-05-01 00:00:13</td>\n",
       "      <td>2017-05-01 00:04:27</td>\n",
       "      <td>511</td>\n",
       "      <td>E 14 St &amp; Avenue B</td>\n",
       "      <td>40.729387</td>\n",
       "      <td>-73.977724</td>\n",
       "      <td>394</td>\n",
       "      <td>E 9 St &amp; Avenue C</td>\n",
       "      <td>40.725213</td>\n",
       "      <td>-73.977688</td>\n",
       "      <td>27695</td>\n",
       "      <td>Subscriber</td>\n",
       "      <td>1996.0</td>\n",
       "      <td>2</td>\n",
       "    </tr>\n",
       "    <tr>\n",
       "      <th>1</th>\n",
       "      <td>248</td>\n",
       "      <td>2017-05-01 00:00:19</td>\n",
       "      <td>2017-05-01 00:04:28</td>\n",
       "      <td>511</td>\n",
       "      <td>E 14 St &amp; Avenue B</td>\n",
       "      <td>40.729387</td>\n",
       "      <td>-73.977724</td>\n",
       "      <td>394</td>\n",
       "      <td>E 9 St &amp; Avenue C</td>\n",
       "      <td>40.725213</td>\n",
       "      <td>-73.977688</td>\n",
       "      <td>15869</td>\n",
       "      <td>Subscriber</td>\n",
       "      <td>1996.0</td>\n",
       "      <td>1</td>\n",
       "    </tr>\n",
       "    <tr>\n",
       "      <th>2</th>\n",
       "      <td>1120</td>\n",
       "      <td>2017-05-01 00:00:19</td>\n",
       "      <td>2017-05-01 00:19:00</td>\n",
       "      <td>242</td>\n",
       "      <td>Carlton Ave &amp; Flushing Ave</td>\n",
       "      <td>40.697787</td>\n",
       "      <td>-73.973736</td>\n",
       "      <td>3083</td>\n",
       "      <td>Bushwick Ave &amp; Powers St</td>\n",
       "      <td>40.712477</td>\n",
       "      <td>-73.941000</td>\n",
       "      <td>18700</td>\n",
       "      <td>Subscriber</td>\n",
       "      <td>1985.0</td>\n",
       "      <td>2</td>\n",
       "    </tr>\n",
       "    <tr>\n",
       "      <th>3</th>\n",
       "      <td>212</td>\n",
       "      <td>2017-05-01 00:00:24</td>\n",
       "      <td>2017-05-01 00:03:56</td>\n",
       "      <td>168</td>\n",
       "      <td>W 18 St &amp; 6 Ave</td>\n",
       "      <td>40.739713</td>\n",
       "      <td>-73.994564</td>\n",
       "      <td>116</td>\n",
       "      <td>W 17 St &amp; 8 Ave</td>\n",
       "      <td>40.741776</td>\n",
       "      <td>-74.001497</td>\n",
       "      <td>24981</td>\n",
       "      <td>Subscriber</td>\n",
       "      <td>1993.0</td>\n",
       "      <td>1</td>\n",
       "    </tr>\n",
       "    <tr>\n",
       "      <th>4</th>\n",
       "      <td>686</td>\n",
       "      <td>2017-05-01 00:00:29</td>\n",
       "      <td>2017-05-01 00:11:55</td>\n",
       "      <td>494</td>\n",
       "      <td>W 26 St &amp; 8 Ave</td>\n",
       "      <td>40.747348</td>\n",
       "      <td>-73.997236</td>\n",
       "      <td>527</td>\n",
       "      <td>E 33 St &amp; 2 Ave</td>\n",
       "      <td>40.744023</td>\n",
       "      <td>-73.976056</td>\n",
       "      <td>25407</td>\n",
       "      <td>Subscriber</td>\n",
       "      <td>1964.0</td>\n",
       "      <td>1</td>\n",
       "    </tr>\n",
       "  </tbody>\n",
       "</table>\n",
       "</div>"
      ],
      "text/plain": [
       "   tripduration            starttime             stoptime  start station id  \\\n",
       "0           254  2017-05-01 00:00:13  2017-05-01 00:04:27               511   \n",
       "1           248  2017-05-01 00:00:19  2017-05-01 00:04:28               511   \n",
       "2          1120  2017-05-01 00:00:19  2017-05-01 00:19:00               242   \n",
       "3           212  2017-05-01 00:00:24  2017-05-01 00:03:56               168   \n",
       "4           686  2017-05-01 00:00:29  2017-05-01 00:11:55               494   \n",
       "\n",
       "           start station name  start station latitude  \\\n",
       "0          E 14 St & Avenue B               40.729387   \n",
       "1          E 14 St & Avenue B               40.729387   \n",
       "2  Carlton Ave & Flushing Ave               40.697787   \n",
       "3             W 18 St & 6 Ave               40.739713   \n",
       "4             W 26 St & 8 Ave               40.747348   \n",
       "\n",
       "   start station longitude  end station id          end station name  \\\n",
       "0               -73.977724             394         E 9 St & Avenue C   \n",
       "1               -73.977724             394         E 9 St & Avenue C   \n",
       "2               -73.973736            3083  Bushwick Ave & Powers St   \n",
       "3               -73.994564             116           W 17 St & 8 Ave   \n",
       "4               -73.997236             527           E 33 St & 2 Ave   \n",
       "\n",
       "   end station latitude  end station longitude  bikeid    usertype  \\\n",
       "0             40.725213             -73.977688   27695  Subscriber   \n",
       "1             40.725213             -73.977688   15869  Subscriber   \n",
       "2             40.712477             -73.941000   18700  Subscriber   \n",
       "3             40.741776             -74.001497   24981  Subscriber   \n",
       "4             40.744023             -73.976056   25407  Subscriber   \n",
       "\n",
       "   birth year  gender  \n",
       "0      1996.0       2  \n",
       "1      1996.0       1  \n",
       "2      1985.0       2  \n",
       "3      1993.0       1  \n",
       "4      1964.0       1  "
      ]
     },
     "execution_count": 5,
     "metadata": {},
     "output_type": "execute_result"
    }
   ],
   "source": [
    "df.head()"
   ]
  },
  {
   "cell_type": "code",
   "execution_count": 6,
   "metadata": {
    "collapsed": false
   },
   "outputs": [
    {
     "data": {
      "text/plain": [
       "usertype\n",
       "Customer       189760\n",
       "Subscriber    1333508\n",
       "dtype: int64"
      ]
     },
     "execution_count": 6,
     "metadata": {},
     "output_type": "execute_result"
    }
   ],
   "source": [
    "df.groupby(['usertype']).size()"
   ]
  },
  {
   "cell_type": "code",
   "execution_count": 7,
   "metadata": {
    "collapsed": false
   },
   "outputs": [
    {
     "data": {
      "text/plain": [
       "Index([u'tripduration', u'starttime', u'stoptime', u'start station id',\n",
       "       u'start station name', u'start station latitude',\n",
       "       u'start station longitude', u'end station id', u'end station name',\n",
       "       u'end station latitude', u'end station longitude', u'bikeid',\n",
       "       u'usertype', u'birth year', u'gender'],\n",
       "      dtype='object')"
      ]
     },
     "execution_count": 7,
     "metadata": {},
     "output_type": "execute_result"
    }
   ],
   "source": [
    "df.columns"
   ]
  },
  {
   "cell_type": "code",
   "execution_count": 8,
   "metadata": {
    "collapsed": false
   },
   "outputs": [],
   "source": [
    "df=df[['usertype','starttime']]"
   ]
  },
  {
   "cell_type": "code",
   "execution_count": 9,
   "metadata": {
    "collapsed": false
   },
   "outputs": [
    {
     "data": {
      "text/html": [
       "<div>\n",
       "<table border=\"1\" class=\"dataframe\">\n",
       "  <thead>\n",
       "    <tr style=\"text-align: right;\">\n",
       "      <th></th>\n",
       "      <th>usertype</th>\n",
       "      <th>starttime</th>\n",
       "    </tr>\n",
       "  </thead>\n",
       "  <tbody>\n",
       "    <tr>\n",
       "      <th>0</th>\n",
       "      <td>Subscriber</td>\n",
       "      <td>2017-05-01 00:00:13</td>\n",
       "    </tr>\n",
       "    <tr>\n",
       "      <th>1</th>\n",
       "      <td>Subscriber</td>\n",
       "      <td>2017-05-01 00:00:19</td>\n",
       "    </tr>\n",
       "    <tr>\n",
       "      <th>2</th>\n",
       "      <td>Subscriber</td>\n",
       "      <td>2017-05-01 00:00:19</td>\n",
       "    </tr>\n",
       "    <tr>\n",
       "      <th>3</th>\n",
       "      <td>Subscriber</td>\n",
       "      <td>2017-05-01 00:00:24</td>\n",
       "    </tr>\n",
       "    <tr>\n",
       "      <th>4</th>\n",
       "      <td>Subscriber</td>\n",
       "      <td>2017-05-01 00:00:29</td>\n",
       "    </tr>\n",
       "  </tbody>\n",
       "</table>\n",
       "</div>"
      ],
      "text/plain": [
       "     usertype            starttime\n",
       "0  Subscriber  2017-05-01 00:00:13\n",
       "1  Subscriber  2017-05-01 00:00:19\n",
       "2  Subscriber  2017-05-01 00:00:19\n",
       "3  Subscriber  2017-05-01 00:00:24\n",
       "4  Subscriber  2017-05-01 00:00:29"
      ]
     },
     "execution_count": 9,
     "metadata": {},
     "output_type": "execute_result"
    }
   ],
   "source": [
    "df.head()"
   ]
  },
  {
   "cell_type": "code",
   "execution_count": 10,
   "metadata": {
    "collapsed": false
   },
   "outputs": [
    {
     "data": {
      "text/html": [
       "<div>\n",
       "<table border=\"1\" class=\"dataframe\">\n",
       "  <thead>\n",
       "    <tr style=\"text-align: right;\">\n",
       "      <th></th>\n",
       "      <th>usertype</th>\n",
       "      <th>time</th>\n",
       "    </tr>\n",
       "  </thead>\n",
       "  <tbody>\n",
       "    <tr>\n",
       "      <th>0</th>\n",
       "      <td>Subscriber</td>\n",
       "      <td>2017-05-01 00:00:13</td>\n",
       "    </tr>\n",
       "    <tr>\n",
       "      <th>1</th>\n",
       "      <td>Subscriber</td>\n",
       "      <td>2017-05-01 00:00:19</td>\n",
       "    </tr>\n",
       "    <tr>\n",
       "      <th>2</th>\n",
       "      <td>Subscriber</td>\n",
       "      <td>2017-05-01 00:00:19</td>\n",
       "    </tr>\n",
       "    <tr>\n",
       "      <th>3</th>\n",
       "      <td>Subscriber</td>\n",
       "      <td>2017-05-01 00:00:24</td>\n",
       "    </tr>\n",
       "    <tr>\n",
       "      <th>4</th>\n",
       "      <td>Subscriber</td>\n",
       "      <td>2017-05-01 00:00:29</td>\n",
       "    </tr>\n",
       "  </tbody>\n",
       "</table>\n",
       "</div>"
      ],
      "text/plain": [
       "     usertype                time\n",
       "0  Subscriber 2017-05-01 00:00:13\n",
       "1  Subscriber 2017-05-01 00:00:19\n",
       "2  Subscriber 2017-05-01 00:00:19\n",
       "3  Subscriber 2017-05-01 00:00:24\n",
       "4  Subscriber 2017-05-01 00:00:29"
      ]
     },
     "execution_count": 10,
     "metadata": {},
     "output_type": "execute_result"
    }
   ],
   "source": [
    "df= df.rename(columns={'starttime':'time'})\n",
    "df['time'] = pd.to_datetime(df['time'])\n",
    "df.head()"
   ]
  },
  {
   "cell_type": "code",
   "execution_count": 11,
   "metadata": {
    "collapsed": false
   },
   "outputs": [
    {
     "data": {
      "text/plain": [
       "<matplotlib.legend.Legend at 0x7fbffd406fd0>"
      ]
     },
     "execution_count": 11,
     "metadata": {},
     "output_type": "execute_result"
    },
    {
     "data": {
      "image/png": "[encoded data removed]",
      "text/plain": [
       "<matplotlib.figure.Figure at 0x7fbffd46a110>"
      ]
     },
     "metadata": {},
     "output_type": "display_data"
    }
   ],
   "source": [
    "fig = pl.figure(figsize(15,15))\n",
    "\n",
    "norm_Sub = 1\n",
    "((df['time'][df['usertype'] == 'Subscriber'].groupby([df['time'].dt.weekday]).count()) / norm_Sub).plot(kind=\"bar\", \n",
    "                                                                                         color='IndianRed', \n",
    "                                                                                         label='Subscriber')\n",
    "\n",
    "norm_Cus = 1\n",
    "ax = ((df['time'][df['usertype'] == 'Customer'].groupby([df['time'].dt.weekday]).count()) / norm_Cus).plot(kind=\"bar\", \n",
    "                                                                                              color='SteelBlue', \n",
    "                                                                                              alpha=0.5,\n",
    "                                                                                              label='Customer')\n",
    "\n",
    "tmp = ax.xaxis.set_ticklabels(['Mon', 'Tue', 'Wed', 'Thu', 'Fri', 'Sat', 'Sun'], fontsize=20)\n",
    "pl.legend()"
   ]
  },
  {
   "cell_type": "markdown",
   "metadata": {},
   "source": [
    "## Figure 1a: Distribution of Citibike bikers by usertype in May 2017, absolute counts\n",
    "\n"
   ]
  },
  {
   "cell_type": "code",
   "execution_count": 12,
   "metadata": {
    "collapsed": false
   },
   "outputs": [
    {
     "data": {
      "text/plain": [
       "<matplotlib.legend.Legend at 0x7fbffc904310>"
      ]
     },
     "execution_count": 12,
     "metadata": {},
     "output_type": "execute_result"
    },
    {
     "data": {
      "image/png": "[encoded data removed]",
      "text/plain": [
       "<matplotlib.figure.Figure at 0x7fbffd464b90>"
      ]
     },
     "metadata": {},
     "output_type": "display_data"
    }
   ],
   "source": [
    "fig=pl.figure(figsize(15,10))\n",
    "\n",
    "counts_Sub = df.time[df.usertype == 'Subscriber'].groupby([df.time.dt.weekday]).count()\n",
    "norm_Sub = 1\n",
    "error_Sub = np.sqrt(counts_Sub)\n",
    "ax=((counts_Sub) / norm_Sub).plot(kind=\"bar\",color='IndianRed',  yerr=[\n",
    "            ((error_Sub) / norm_Sub, (error_Sub) / norm_Sub)], label='Subscriber bikers')\n",
    "\n",
    "\n",
    "counts_Cus = df.time[df.usertype == 'Customer'].groupby([df.time.dt.weekday]).count()\n",
    "norm_Cus = 1\n",
    "error_Cus=np.sqrt(counts_Cus)\n",
    "((counts_Cus) / norm_Cus).plot(kind=\"bar\", alpha=0.5, yerr=[((error_Cus) / norm_Cus, (error_Cus) / norm_Cus)], \n",
    "                           color='SteelBlue', label='Customer bikers')\n",
    "ax.xaxis.set_ticklabels(['Mon','Tue','Wed','Thu','Fri','Sat','Sun'], fontsize=20)\n",
    "ax.set_ylabel (\"Number of rides\")\n",
    "ax.set_xlabel (\"Day of the week\")\n",
    "pl.legend(['Subscriber bikers','Customer bikers'],fontsize=20)"
   ]
  },
  {
   "cell_type": "markdown",
   "metadata": {},
   "source": [
    "## Figure 1b: Distribution of Citibike bikers by usertype in May 2017, absolute counts, with statistical errors"
   ]
  },
  {
   "cell_type": "code",
   "execution_count": 13,
   "metadata": {
    "collapsed": false
   },
   "outputs": [
    {
     "data": {
      "text/plain": [
       "<matplotlib.legend.Legend at 0x7fbffd464550>"
      ]
     },
     "execution_count": 13,
     "metadata": {},
     "output_type": "execute_result"
    },
    {
     "data": {
      "image/png": "[encoded data removed]",
      "text/plain": [
       "<matplotlib.figure.Figure at 0x7fbffd464610>"
      ]
     },
     "metadata": {},
     "output_type": "display_data"
    }
   ],
   "source": [
    "fig = pl.figure(figsize(15,10))\n",
    "\n",
    "norm_Sub = counts_Sub.sum()\n",
    "error_Sub = np.sqrt(counts_Sub)\n",
    "((counts_Sub) / norm_Sub).plot(kind=\"bar\", color='IndianRed',  \n",
    "                           yerr=[((error_Sub) / norm_Sub, (error_Sub) / norm_Sub)], \n",
    "                           label='Subscriber bikers')\n",
    "\n",
    "norm_Cus = counts_Cus.sum()\n",
    "ax = ((counts_Cus) / norm_Cus).plot(kind=\"bar\", alpha=0.5, \n",
    "                                yerr=[((error_Cus) / norm_Cus, (error_Cus) / norm_Cus)], \n",
    "                                color='SteelBlue', label='Customer bikers')\n",
    "\n",
    "ax.xaxis.set_ticklabels(['Mon', 'Tue', 'Wed', 'Thu', 'Fri', 'Sat', 'Sun'], fontsize=20)\n",
    "ax.set_ylabel (\"Fraction of rides\")\n",
    "ax.set_xlabel (\"Day of the week\")\n",
    "\n",
    "pl.legend(['Subscriber bikers','Customer bikers'],fontsize=20)"
   ]
  },
  {
   "cell_type": "markdown",
   "metadata": {},
   "source": [
    "## Figure 2: Distribution of Citibike bikers by usertype in May 2017, normalized"
   ]
  },
  {
   "cell_type": "code",
   "execution_count": 34,
   "metadata": {
    "collapsed": true
   },
   "outputs": [],
   "source": [
    "import statsmodels.stats.proportion as st"
   ]
  },
  {
   "cell_type": "code",
   "execution_count": 19,
   "metadata": {
    "collapsed": false
   },
   "outputs": [
    {
     "data": {
      "text/plain": [
       "time\n",
       "0    192909\n",
       "1    267929\n",
       "2    277617\n",
       "3    179270\n",
       "4    176395\n",
       "5    110806\n",
       "6    128582\n",
       "Name: time, dtype: int64"
      ]
     },
     "execution_count": 19,
     "metadata": {},
     "output_type": "execute_result"
    }
   ],
   "source": [
    "counts_Sub"
   ]
  },
  {
   "cell_type": "code",
   "execution_count": 41,
   "metadata": {
    "collapsed": false,
    "scrolled": true
   },
   "outputs": [
    {
     "name": "stdout",
     "output_type": "stream",
     "text": [
      "z-score is -252.09274206 and p-value is 0.0\n"
     ]
    }
   ],
   "source": [
    "Sub_weekend = counts_Sub[5:].sum()\n",
    "Cus_weekend = counts_Cus[5:].sum()\n",
    "count = np.array([Sub_weekend,Cus_weekend])\n",
    "nobs = np.array([norm_Sub,norm_Cus])\n",
    "result = st.proportions_ztest(count, nobs, value=0, alternative='smaller', prop_var=False)\n",
    "print('z-score is {} and p-value is {}'.format(result[0],result[1]))"
   ]
  },
  {
   "cell_type": "markdown",
   "metadata": {},
   "source": [
    "## Under the significance level=0.05, we can see that p-value=0.0<0.5 so we can reject the null hypothesis that  the ratio of subscribers biking on weekends over subscribers biking on the whole week is the same or higher than the ratio of customers biking over weekends to customers biking on the whole week.  Then we can accept the alternative hypothesis that     ratio of     subscribers biking on weekends over subscribers biking on the whole week is lower.     "
   ]
  },
  {
   "cell_type": "code",
   "execution_count": null,
   "metadata": {
    "collapsed": true
   },
   "outputs": [],
   "source": []
  }
 ],
 "metadata": {
  "kernelspec": {
   "display_name": "PUI2016_Python2",
   "language": "python",
   "name": "pui2016_python2"
  },
  "language_info": {
   "codemirror_mode": {
    "name": "ipython",
    "version": 2
   },
   "file_extension": ".py",
   "mimetype": "text/x-python",
   "name": "python",
   "nbconvert_exporter": "python",
   "pygments_lexer": "ipython2",
   "version": "2.7.12"
  }
 },
 "nbformat": 4,
 "nbformat_minor": 0
}
