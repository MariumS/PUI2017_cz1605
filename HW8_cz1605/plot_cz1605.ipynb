{
 "cells": [
  {
   "cell_type": "code",
   "execution_count": 1,
   "metadata": {},
   "outputs": [
    {
     "name": "stdout",
     "output_type": "stream",
     "text": [
      "Populating the interactive namespace from numpy and matplotlib\n"
     ]
    }
   ],
   "source": [
    "import pandas as pd\n",
    "import numpy as np\n",
    "import operator\n",
    "from scipy import stats\n",
    "import matplotlib.pylab as pl\n",
    "import statsmodels.api as sm\n",
    "import statsmodels.formula.api as smf\n",
    "import os\n",
    "pl.style.use('ggplot')\n",
    "%pylab inline"
   ]
  },
  {
   "cell_type": "markdown",
   "metadata": {},
   "source": [
    "## Directly read the Local Law 84 dataset to get energy use information in 2014"
   ]
  },
  {
   "cell_type": "code",
   "execution_count": 2,
   "metadata": {},
   "outputs": [
    {
     "data": {
      "text/html": [
       "<div>\n",
       "<table border=\"1\" class=\"dataframe\">\n",
       "  <thead>\n",
       "    <tr style=\"text-align: right;\">\n",
       "      <th></th>\n",
       "      <th>Record Number</th>\n",
       "      <th>BBL</th>\n",
       "      <th>Co-reported BBL Status</th>\n",
       "      <th>BBLs Co-reported</th>\n",
       "      <th>Reported NYC Building Identification Numbers (BINs)</th>\n",
       "      <th>Street Number</th>\n",
       "      <th>Street Name</th>\n",
       "      <th>Borough</th>\n",
       "      <th>Postcode</th>\n",
       "      <th>BBL on the Covered Buildings List</th>\n",
       "      <th>...</th>\n",
       "      <th>DOF Property Floor Area (Buildngs and Parking)(ft2)</th>\n",
       "      <th>Primary Property Type - Self Selected</th>\n",
       "      <th>DOF Number of Buildings</th>\n",
       "      <th>Latitude</th>\n",
       "      <th>Longitude</th>\n",
       "      <th>Community Board</th>\n",
       "      <th>Council District</th>\n",
       "      <th>Census Tract</th>\n",
       "      <th>BIN</th>\n",
       "      <th>NTA</th>\n",
       "    </tr>\n",
       "  </thead>\n",
       "  <tbody>\n",
       "    <tr>\n",
       "      <th>0</th>\n",
       "      <td>2830985.0</td>\n",
       "      <td>4160830037</td>\n",
       "      <td>NaN</td>\n",
       "      <td>NaN</td>\n",
       "      <td>4303321</td>\n",
       "      <td>71</td>\n",
       "      <td>BEACH 70 STREET</td>\n",
       "      <td>QUEENS</td>\n",
       "      <td>11692.0</td>\n",
       "      <td>Yes</td>\n",
       "      <td>...</td>\n",
       "      <td>155000.0</td>\n",
       "      <td>Multifamily Housing</td>\n",
       "      <td>1.0</td>\n",
       "      <td>NaN</td>\n",
       "      <td>NaN</td>\n",
       "      <td>NaN</td>\n",
       "      <td>NaN</td>\n",
       "      <td>NaN</td>\n",
       "      <td>NaN</td>\n",
       "      <td>NaN</td>\n",
       "    </tr>\n",
       "    <tr>\n",
       "      <th>1</th>\n",
       "      <td>2858535.0</td>\n",
       "      <td>4002520018</td>\n",
       "      <td>NaN</td>\n",
       "      <td>NaN</td>\n",
       "      <td>4003447</td>\n",
       "      <td>32-36</td>\n",
       "      <td>47 AVENUE</td>\n",
       "      <td>QUEENS</td>\n",
       "      <td>11101.0</td>\n",
       "      <td>Yes</td>\n",
       "      <td>...</td>\n",
       "      <td>184400.0</td>\n",
       "      <td>Office</td>\n",
       "      <td>1.0</td>\n",
       "      <td>NaN</td>\n",
       "      <td>NaN</td>\n",
       "      <td>NaN</td>\n",
       "      <td>NaN</td>\n",
       "      <td>NaN</td>\n",
       "      <td>NaN</td>\n",
       "      <td>NaN</td>\n",
       "    </tr>\n",
       "    <tr>\n",
       "      <th>2</th>\n",
       "      <td>2804445.0</td>\n",
       "      <td>3009747504</td>\n",
       "      <td>NaN</td>\n",
       "      <td>NaN</td>\n",
       "      <td>3392416</td>\n",
       "      <td>302</td>\n",
       "      <td>2 AVENUE</td>\n",
       "      <td>BROOKLYN</td>\n",
       "      <td>11215.0</td>\n",
       "      <td>Yes</td>\n",
       "      <td>...</td>\n",
       "      <td>58506.0</td>\n",
       "      <td>Multifamily Housing</td>\n",
       "      <td>1.0</td>\n",
       "      <td>NaN</td>\n",
       "      <td>NaN</td>\n",
       "      <td>NaN</td>\n",
       "      <td>NaN</td>\n",
       "      <td>NaN</td>\n",
       "      <td>NaN</td>\n",
       "      <td>NaN</td>\n",
       "    </tr>\n",
       "    <tr>\n",
       "      <th>3</th>\n",
       "      <td>2805372.0</td>\n",
       "      <td>4032937501</td>\n",
       "      <td>NaN</td>\n",
       "      <td>NaN</td>\n",
       "      <td>4308252</td>\n",
       "      <td>110</td>\n",
       "      <td>73 ROAD</td>\n",
       "      <td>QUEENS</td>\n",
       "      <td>11375.0</td>\n",
       "      <td>Yes</td>\n",
       "      <td>...</td>\n",
       "      <td>100800.0</td>\n",
       "      <td>Multifamily Housing</td>\n",
       "      <td>1.0</td>\n",
       "      <td>NaN</td>\n",
       "      <td>NaN</td>\n",
       "      <td>NaN</td>\n",
       "      <td>NaN</td>\n",
       "      <td>NaN</td>\n",
       "      <td>NaN</td>\n",
       "      <td>NaN</td>\n",
       "    </tr>\n",
       "    <tr>\n",
       "      <th>4</th>\n",
       "      <td>2664866.0</td>\n",
       "      <td>4000540006</td>\n",
       "      <td>NaN</td>\n",
       "      <td>NaN</td>\n",
       "      <td>4000460</td>\n",
       "      <td>11-36</td>\n",
       "      <td>45 ROAD</td>\n",
       "      <td>QUEENS</td>\n",
       "      <td>11101.0</td>\n",
       "      <td>Yes</td>\n",
       "      <td>...</td>\n",
       "      <td>56000.0</td>\n",
       "      <td>Worship Facility</td>\n",
       "      <td>1.0</td>\n",
       "      <td>NaN</td>\n",
       "      <td>NaN</td>\n",
       "      <td>NaN</td>\n",
       "      <td>NaN</td>\n",
       "      <td>NaN</td>\n",
       "      <td>NaN</td>\n",
       "      <td>NaN</td>\n",
       "    </tr>\n",
       "  </tbody>\n",
       "</table>\n",
       "<p>5 rows × 33 columns</p>\n",
       "</div>"
      ],
      "text/plain": [
       "   Record Number         BBL Co-reported BBL Status BBLs Co-reported  \\\n",
       "0      2830985.0  4160830037                    NaN              NaN   \n",
       "1      2858535.0  4002520018                    NaN              NaN   \n",
       "2      2804445.0  3009747504                    NaN              NaN   \n",
       "3      2805372.0  4032937501                    NaN              NaN   \n",
       "4      2664866.0  4000540006                    NaN              NaN   \n",
       "\n",
       "  Reported NYC Building Identification Numbers (BINs) Street Number  \\\n",
       "0                                            4303321             71   \n",
       "1                                            4003447          32-36   \n",
       "2                                            3392416            302   \n",
       "3                                            4308252            110   \n",
       "4                                            4000460          11-36   \n",
       "\n",
       "            Street Name               Borough  Postcode  \\\n",
       "0  BEACH 70 STREET                     QUEENS   11692.0   \n",
       "1    47 AVENUE                         QUEENS   11101.0   \n",
       "2  2 AVENUE              BROOKLYN               11215.0   \n",
       "3  73 ROAD                             QUEENS   11375.0   \n",
       "4    45 ROAD                           QUEENS   11101.0   \n",
       "\n",
       "  BBL on the Covered Buildings List ...   \\\n",
       "0                               Yes ...    \n",
       "1                               Yes ...    \n",
       "2                               Yes ...    \n",
       "3                               Yes ...    \n",
       "4                               Yes ...    \n",
       "\n",
       "  DOF Property Floor Area (Buildngs and Parking)(ft2)  \\\n",
       "0                                           155000.0    \n",
       "1                                           184400.0    \n",
       "2                                            58506.0    \n",
       "3                                           100800.0    \n",
       "4                                            56000.0    \n",
       "\n",
       "   Primary Property Type - Self Selected DOF Number of Buildings Latitude  \\\n",
       "0                    Multifamily Housing                     1.0      NaN   \n",
       "1                                 Office                     1.0      NaN   \n",
       "2                    Multifamily Housing                     1.0      NaN   \n",
       "3                    Multifamily Housing                     1.0      NaN   \n",
       "4                       Worship Facility                     1.0      NaN   \n",
       "\n",
       "  Longitude Community Board Council District Census Tract BIN  NTA  \n",
       "0       NaN             NaN              NaN          NaN NaN  NaN  \n",
       "1       NaN             NaN              NaN          NaN NaN  NaN  \n",
       "2       NaN             NaN              NaN          NaN NaN  NaN  \n",
       "3       NaN             NaN              NaN          NaN NaN  NaN  \n",
       "4       NaN             NaN              NaN          NaN NaN  NaN  \n",
       "\n",
       "[5 rows x 33 columns]"
      ]
     },
     "execution_count": 2,
     "metadata": {},
     "output_type": "execute_result"
    }
   ],
   "source": [
    "df = pd.read_csv('https://data.cityofnewyork.us/api/views/jzst-u7j8/rows.csv?accessType=DOWNLOAD')\n",
    "df.head()"
   ]
  },
  {
   "cell_type": "code",
   "execution_count": 3,
   "metadata": {},
   "outputs": [
    {
     "data": {
      "text/plain": [
       "Index([u'Record Number', u'BBL', u'Co-reported BBL Status',\n",
       "       u'BBLs Co-reported',\n",
       "       u'Reported NYC Building Identification Numbers (BINs)',\n",
       "       u'Street Number', u'Street Name', u'Borough', u'Postcode',\n",
       "       u'BBL on the Covered Buildings List',\n",
       "       u'DOF Benchmarking Submission Status', u'Site EUI(kBtu/ft2)',\n",
       "       u'Weather Normalized Site EUI(kBtu/ft2)', u'Source EUI(kBtu/ft2)',\n",
       "       u'Weather Normalized Source EUI(kBtu/ft2)',\n",
       "       u'Municipally Supplied Potable Water - Indoor Intensity (gal/ft²)',\n",
       "       u'Automatic Water Benchmarking Eligible', u'Reported Water Method',\n",
       "       u'ENERGY STAR Score', u'Total GHG Emissions(MtCO2e)',\n",
       "       u'Direct GHG Emissions(MtCO2e)', u'Indirect GHG Emissions(MtCO2e)',\n",
       "       u'Reported Property Floor Area (Building(s)) (ft²)',\n",
       "       u'DOF Property Floor Area (Buildngs and Parking)(ft2)',\n",
       "       u'Primary Property Type - Self Selected', u'DOF Number of Buildings',\n",
       "       u'Latitude', u'Longitude', u'Community Board', u'Council District',\n",
       "       u'Census Tract', u'BIN', u'NTA'],\n",
       "      dtype='object')"
      ]
     },
     "execution_count": 3,
     "metadata": {},
     "output_type": "execute_result"
    }
   ],
   "source": [
    "df.columns"
   ]
  },
  {
   "cell_type": "markdown",
   "metadata": {},
   "source": [
    "## Find the top 5 major building types"
   ]
  },
  {
   "cell_type": "code",
   "execution_count": 4,
   "metadata": {},
   "outputs": [
    {
     "data": {
      "text/plain": [
       "[('Multifamily Housing', 8552),\n",
       " ('Office', 1235),\n",
       " ('Other', 215),\n",
       " ('Hotel', 187),\n",
       " ('Not Available', 182),\n",
       " ('Non-Refrigerated Warehouse', 169)]"
      ]
     },
     "execution_count": 4,
     "metadata": {},
     "output_type": "execute_result"
    }
   ],
   "source": [
    "mydict = dict(zip(df.groupby('Primary Property Type - Self Selected')['Record Number'].count().index, \n",
    "                  df.groupby('Primary Property Type - Self Selected')[\"Record Number\"].count().values))\n",
    "sorted(mydict.items(), key = operator.itemgetter(1), reverse=True)[:6]"
   ]
  },
  {
   "cell_type": "markdown",
   "metadata": {},
   "source": [
    "## Focus on Multifamily Housing since it accouts for nearly 80% of all buildings"
   ]
  },
  {
   "cell_type": "code",
   "execution_count": 5,
   "metadata": {},
   "outputs": [
    {
     "data": {
      "text/html": [
       "<div>\n",
       "<table border=\"1\" class=\"dataframe\">\n",
       "  <thead>\n",
       "    <tr style=\"text-align: right;\">\n",
       "      <th></th>\n",
       "      <th>Record Number</th>\n",
       "      <th>BBL</th>\n",
       "      <th>Co-reported BBL Status</th>\n",
       "      <th>BBLs Co-reported</th>\n",
       "      <th>Reported NYC Building Identification Numbers (BINs)</th>\n",
       "      <th>Street Number</th>\n",
       "      <th>Street Name</th>\n",
       "      <th>Borough</th>\n",
       "      <th>Postcode</th>\n",
       "      <th>BBL on the Covered Buildings List</th>\n",
       "      <th>...</th>\n",
       "      <th>DOF Property Floor Area (Buildngs and Parking)(ft2)</th>\n",
       "      <th>Primary Property Type - Self Selected</th>\n",
       "      <th>DOF Number of Buildings</th>\n",
       "      <th>Latitude</th>\n",
       "      <th>Longitude</th>\n",
       "      <th>Community Board</th>\n",
       "      <th>Council District</th>\n",
       "      <th>Census Tract</th>\n",
       "      <th>BIN</th>\n",
       "      <th>NTA</th>\n",
       "    </tr>\n",
       "  </thead>\n",
       "  <tbody>\n",
       "    <tr>\n",
       "      <th>0</th>\n",
       "      <td>2830985.0</td>\n",
       "      <td>4160830037</td>\n",
       "      <td>NaN</td>\n",
       "      <td>NaN</td>\n",
       "      <td>4303321</td>\n",
       "      <td>71</td>\n",
       "      <td>BEACH 70 STREET</td>\n",
       "      <td>QUEENS</td>\n",
       "      <td>11692.0</td>\n",
       "      <td>Yes</td>\n",
       "      <td>...</td>\n",
       "      <td>155000.0</td>\n",
       "      <td>Multifamily Housing</td>\n",
       "      <td>1.0</td>\n",
       "      <td>NaN</td>\n",
       "      <td>NaN</td>\n",
       "      <td>NaN</td>\n",
       "      <td>NaN</td>\n",
       "      <td>NaN</td>\n",
       "      <td>NaN</td>\n",
       "      <td>NaN</td>\n",
       "    </tr>\n",
       "    <tr>\n",
       "      <th>2</th>\n",
       "      <td>2804445.0</td>\n",
       "      <td>3009747504</td>\n",
       "      <td>NaN</td>\n",
       "      <td>NaN</td>\n",
       "      <td>3392416</td>\n",
       "      <td>302</td>\n",
       "      <td>2 AVENUE</td>\n",
       "      <td>BROOKLYN</td>\n",
       "      <td>11215.0</td>\n",
       "      <td>Yes</td>\n",
       "      <td>...</td>\n",
       "      <td>58506.0</td>\n",
       "      <td>Multifamily Housing</td>\n",
       "      <td>1.0</td>\n",
       "      <td>NaN</td>\n",
       "      <td>NaN</td>\n",
       "      <td>NaN</td>\n",
       "      <td>NaN</td>\n",
       "      <td>NaN</td>\n",
       "      <td>NaN</td>\n",
       "      <td>NaN</td>\n",
       "    </tr>\n",
       "    <tr>\n",
       "      <th>3</th>\n",
       "      <td>2805372.0</td>\n",
       "      <td>4032937501</td>\n",
       "      <td>NaN</td>\n",
       "      <td>NaN</td>\n",
       "      <td>4308252</td>\n",
       "      <td>110</td>\n",
       "      <td>73 ROAD</td>\n",
       "      <td>QUEENS</td>\n",
       "      <td>11375.0</td>\n",
       "      <td>Yes</td>\n",
       "      <td>...</td>\n",
       "      <td>100800.0</td>\n",
       "      <td>Multifamily Housing</td>\n",
       "      <td>1.0</td>\n",
       "      <td>NaN</td>\n",
       "      <td>NaN</td>\n",
       "      <td>NaN</td>\n",
       "      <td>NaN</td>\n",
       "      <td>NaN</td>\n",
       "      <td>NaN</td>\n",
       "      <td>NaN</td>\n",
       "    </tr>\n",
       "    <tr>\n",
       "      <th>5</th>\n",
       "      <td>2669439.0</td>\n",
       "      <td>4096490053</td>\n",
       "      <td>NaN</td>\n",
       "      <td>NaN</td>\n",
       "      <td>4206516</td>\n",
       "      <td>85-02</td>\n",
       "      <td>MANTON STREET</td>\n",
       "      <td>QUEENS</td>\n",
       "      <td>11435.0</td>\n",
       "      <td>Yes</td>\n",
       "      <td>...</td>\n",
       "      <td>92000.0</td>\n",
       "      <td>Multifamily Housing</td>\n",
       "      <td>1.0</td>\n",
       "      <td>NaN</td>\n",
       "      <td>NaN</td>\n",
       "      <td>NaN</td>\n",
       "      <td>NaN</td>\n",
       "      <td>NaN</td>\n",
       "      <td>NaN</td>\n",
       "      <td>NaN</td>\n",
       "    </tr>\n",
       "    <tr>\n",
       "      <th>6</th>\n",
       "      <td>2726160.0</td>\n",
       "      <td>4030780103</td>\n",
       "      <td>NaN</td>\n",
       "      <td>NaN</td>\n",
       "      <td>4072035</td>\n",
       "      <td>93-40</td>\n",
       "      <td>QUEENS BOULEVARD</td>\n",
       "      <td>QUEENS</td>\n",
       "      <td>11374.0</td>\n",
       "      <td>Yes</td>\n",
       "      <td>...</td>\n",
       "      <td>52080.0</td>\n",
       "      <td>Multifamily Housing</td>\n",
       "      <td>1.0</td>\n",
       "      <td>NaN</td>\n",
       "      <td>NaN</td>\n",
       "      <td>NaN</td>\n",
       "      <td>NaN</td>\n",
       "      <td>NaN</td>\n",
       "      <td>NaN</td>\n",
       "      <td>NaN</td>\n",
       "    </tr>\n",
       "  </tbody>\n",
       "</table>\n",
       "<p>5 rows × 33 columns</p>\n",
       "</div>"
      ],
      "text/plain": [
       "   Record Number         BBL Co-reported BBL Status BBLs Co-reported  \\\n",
       "0      2830985.0  4160830037                    NaN              NaN   \n",
       "2      2804445.0  3009747504                    NaN              NaN   \n",
       "3      2805372.0  4032937501                    NaN              NaN   \n",
       "5      2669439.0  4096490053                    NaN              NaN   \n",
       "6      2726160.0  4030780103                    NaN              NaN   \n",
       "\n",
       "  Reported NYC Building Identification Numbers (BINs) Street Number  \\\n",
       "0                                            4303321             71   \n",
       "2                                            3392416            302   \n",
       "3                                            4308252            110   \n",
       "5                                            4206516          85-02   \n",
       "6                                            4072035          93-40   \n",
       "\n",
       "            Street Name               Borough  Postcode  \\\n",
       "0  BEACH 70 STREET                     QUEENS   11692.0   \n",
       "2  2 AVENUE              BROOKLYN               11215.0   \n",
       "3  73 ROAD                             QUEENS   11375.0   \n",
       "5  MANTON STREET                       QUEENS   11435.0   \n",
       "6  QUEENS BOULEVARD                    QUEENS   11374.0   \n",
       "\n",
       "  BBL on the Covered Buildings List ...   \\\n",
       "0                               Yes ...    \n",
       "2                               Yes ...    \n",
       "3                               Yes ...    \n",
       "5                               Yes ...    \n",
       "6                               Yes ...    \n",
       "\n",
       "  DOF Property Floor Area (Buildngs and Parking)(ft2)  \\\n",
       "0                                           155000.0    \n",
       "2                                            58506.0    \n",
       "3                                           100800.0    \n",
       "5                                            92000.0    \n",
       "6                                            52080.0    \n",
       "\n",
       "   Primary Property Type - Self Selected DOF Number of Buildings Latitude  \\\n",
       "0                    Multifamily Housing                     1.0      NaN   \n",
       "2                    Multifamily Housing                     1.0      NaN   \n",
       "3                    Multifamily Housing                     1.0      NaN   \n",
       "5                    Multifamily Housing                     1.0      NaN   \n",
       "6                    Multifamily Housing                     1.0      NaN   \n",
       "\n",
       "  Longitude Community Board Council District Census Tract BIN  NTA  \n",
       "0       NaN             NaN              NaN          NaN NaN  NaN  \n",
       "2       NaN             NaN              NaN          NaN NaN  NaN  \n",
       "3       NaN             NaN              NaN          NaN NaN  NaN  \n",
       "5       NaN             NaN              NaN          NaN NaN  NaN  \n",
       "6       NaN             NaN              NaN          NaN NaN  NaN  \n",
       "\n",
       "[5 rows x 33 columns]"
      ]
     },
     "execution_count": 5,
     "metadata": {},
     "output_type": "execute_result"
    }
   ],
   "source": [
    "df = df[df['Primary Property Type - Self Selected']== 'Multifamily Housing']\n",
    "df.head()"
   ]
  },
  {
   "cell_type": "markdown",
   "metadata": {},
   "source": [
    "## Remove the outliers that are zeros or larger than 1000"
   ]
  },
  {
   "cell_type": "code",
   "execution_count": 6,
   "metadata": {},
   "outputs": [
    {
     "data": {
      "image/png": "[encoded data removed]",
      "text/plain": [
       "<matplotlib.figure.Figure at 0x7fa6397e2750>"
      ]
     },
     "metadata": {},
     "output_type": "display_data"
    }
   ],
   "source": [
    "df = df.dropna(subset=[\"Site EUI(kBtu/ft2)\"])\n",
    "df = df[df['Site EUI(kBtu/ft2)']>0]\n",
    "plt.hist(df[\"Site EUI(kBtu/ft2)\"][df[\"Site EUI(kBtu/ft2)\"]<1000], bins=200)\n",
    "plt.show()"
   ]
  },
  {
   "cell_type": "markdown",
   "metadata": {},
   "source": [
    "## Remove the outliers whose log value is out range of 2std level"
   ]
  },
  {
   "cell_type": "code",
   "execution_count": 7,
   "metadata": {},
   "outputs": [
    {
     "data": {
      "text/plain": [
       "(7409, 35)"
      ]
     },
     "execution_count": 7,
     "metadata": {},
     "output_type": "execute_result"
    }
   ],
   "source": [
    "df[\"eui\"] = df[\"Site EUI(kBtu/ft2)\"]\n",
    "df[\"log_eui\"] = np.log10(df.eui)\n",
    "df = df[(df.log_eui<np.mean(df.log_eui)+1*np.std(df.log_eui))&(df.log_eui>np.mean(df.log_eui)-2*np.std(df.log_eui))]\n",
    "df.shape"
   ]
  },
  {
   "cell_type": "code",
   "execution_count": 8,
   "metadata": {},
   "outputs": [
    {
     "data": {
      "image/png": "[encoded data removed]",
      "text/plain": [
       "<matplotlib.figure.Figure at 0x7fa5c0b319d0>"
      ]
     },
     "metadata": {},
     "output_type": "display_data"
    }
   ],
   "source": [
    "plt.hist(df[\"Site EUI(kBtu/ft2)\"], bins=200)\n",
    "plt.show()"
   ]
  },
  {
   "cell_type": "code",
   "execution_count": 9,
   "metadata": {},
   "outputs": [
    {
     "data": {
      "text/plain": [
       "count    7409.000000\n",
       "mean       87.886004\n",
       "std        25.055868\n",
       "min        23.400000\n",
       "25%        72.100000\n",
       "50%        86.800000\n",
       "75%       102.900000\n",
       "max       154.900000\n",
       "Name: eui, dtype: float64"
      ]
     },
     "execution_count": 9,
     "metadata": {},
     "output_type": "execute_result"
    }
   ],
   "source": [
    "df.eui.describe()"
   ]
  },
  {
   "cell_type": "markdown",
   "metadata": {},
   "source": [
    "## Get the data that only contains the information about EUI and Score"
   ]
  },
  {
   "cell_type": "code",
   "execution_count": 13,
   "metadata": {},
   "outputs": [
    {
     "data": {
      "text/html": [
       "<div>\n",
       "<table border=\"1\" class=\"dataframe\">\n",
       "  <thead>\n",
       "    <tr style=\"text-align: right;\">\n",
       "      <th></th>\n",
       "      <th>Site EUI(kBtu/ft2)</th>\n",
       "      <th>ENERGY STAR Score</th>\n",
       "    </tr>\n",
       "  </thead>\n",
       "  <tbody>\n",
       "    <tr>\n",
       "      <th>0</th>\n",
       "      <td>115.1</td>\n",
       "      <td>20</td>\n",
       "    </tr>\n",
       "    <tr>\n",
       "      <th>2</th>\n",
       "      <td>102.3</td>\n",
       "      <td>9</td>\n",
       "    </tr>\n",
       "    <tr>\n",
       "      <th>3</th>\n",
       "      <td>44.6</td>\n",
       "      <td>Not Available</td>\n",
       "    </tr>\n",
       "    <tr>\n",
       "      <th>5</th>\n",
       "      <td>89.5</td>\n",
       "      <td>Not Available</td>\n",
       "    </tr>\n",
       "    <tr>\n",
       "      <th>6</th>\n",
       "      <td>97.2</td>\n",
       "      <td>57</td>\n",
       "    </tr>\n",
       "  </tbody>\n",
       "</table>\n",
       "</div>"
      ],
      "text/plain": [
       "   Site EUI(kBtu/ft2) ENERGY STAR Score\n",
       "0               115.1                20\n",
       "2               102.3                 9\n",
       "3                44.6     Not Available\n",
       "5                89.5     Not Available\n",
       "6                97.2                57"
      ]
     },
     "execution_count": 13,
     "metadata": {},
     "output_type": "execute_result"
    }
   ],
   "source": [
    "df = df[['Site EUI(kBtu/ft2)','ENERGY STAR Score']]\n",
    "df.head()"
   ]
  },
  {
   "cell_type": "code",
   "execution_count": 14,
   "metadata": {},
   "outputs": [
    {
     "data": {
      "text/plain": [
       "'Not Available'"
      ]
     },
     "execution_count": 14,
     "metadata": {},
     "output_type": "execute_result"
    }
   ],
   "source": [
    "df.iloc[2,1]"
   ]
  },
  {
   "cell_type": "markdown",
   "metadata": {},
   "source": [
    "## Remove the columns whose number is not available"
   ]
  },
  {
   "cell_type": "code",
   "execution_count": 17,
   "metadata": {},
   "outputs": [
    {
     "data": {
      "text/html": [
       "<div>\n",
       "<table border=\"1\" class=\"dataframe\">\n",
       "  <thead>\n",
       "    <tr style=\"text-align: right;\">\n",
       "      <th></th>\n",
       "      <th>Site EUI(kBtu/ft2)</th>\n",
       "      <th>ENERGY STAR Score</th>\n",
       "    </tr>\n",
       "  </thead>\n",
       "  <tbody>\n",
       "    <tr>\n",
       "      <th>0</th>\n",
       "      <td>115.1</td>\n",
       "      <td>20</td>\n",
       "    </tr>\n",
       "    <tr>\n",
       "      <th>2</th>\n",
       "      <td>102.3</td>\n",
       "      <td>9</td>\n",
       "    </tr>\n",
       "    <tr>\n",
       "      <th>6</th>\n",
       "      <td>97.2</td>\n",
       "      <td>57</td>\n",
       "    </tr>\n",
       "    <tr>\n",
       "      <th>7</th>\n",
       "      <td>105.2</td>\n",
       "      <td>50</td>\n",
       "    </tr>\n",
       "    <tr>\n",
       "      <th>8</th>\n",
       "      <td>74.6</td>\n",
       "      <td>78</td>\n",
       "    </tr>\n",
       "  </tbody>\n",
       "</table>\n",
       "</div>"
      ],
      "text/plain": [
       "   Site EUI(kBtu/ft2) ENERGY STAR Score\n",
       "0               115.1                20\n",
       "2               102.3                 9\n",
       "6                97.2                57\n",
       "7               105.2                50\n",
       "8                74.6                78"
      ]
     },
     "execution_count": 17,
     "metadata": {},
     "output_type": "execute_result"
    }
   ],
   "source": [
    "df = df[df['ENERGY STAR Score']!='Not Available']\n",
    "df.head()"
   ]
  },
  {
   "cell_type": "code",
   "execution_count": 24,
   "metadata": {},
   "outputs": [],
   "source": [
    "df['ENERGY STAR Score'] = df['ENERGY STAR Score'].astype(int)"
   ]
  },
  {
   "cell_type": "code",
   "execution_count": 33,
   "metadata": {},
   "outputs": [],
   "source": [
    "df.columns = ['EUI','Score']"
   ]
  },
  {
   "cell_type": "markdown",
   "metadata": {},
   "source": [
    "## Use the OLS funciton to get fit line and its summary"
   ]
  },
  {
   "cell_type": "code",
   "execution_count": 35,
   "metadata": {},
   "outputs": [
    {
     "data": {
      "text/html": [
       "<table class=\"simpletable\">\n",
       "<caption>OLS Regression Results</caption>\n",
       "<tr>\n",
       "  <th>Dep. Variable:</th>           <td>EUI</td>       <th>  R-squared:         </th> <td>   0.543</td> \n",
       "</tr>\n",
       "<tr>\n",
       "  <th>Model:</th>                   <td>OLS</td>       <th>  Adj. R-squared:    </th> <td>   0.542</td> \n",
       "</tr>\n",
       "<tr>\n",
       "  <th>Method:</th>             <td>Least Squares</td>  <th>  F-statistic:       </th> <td>   7257.</td> \n",
       "</tr>\n",
       "<tr>\n",
       "  <th>Date:</th>             <td>Tue, 14 Nov 2017</td> <th>  Prob (F-statistic):</th>  <td>  0.00</td>  \n",
       "</tr>\n",
       "<tr>\n",
       "  <th>Time:</th>                 <td>16:21:18</td>     <th>  Log-Likelihood:    </th> <td> -26047.</td> \n",
       "</tr>\n",
       "<tr>\n",
       "  <th>No. Observations:</th>      <td>  6121</td>      <th>  AIC:               </th> <td>5.210e+04</td>\n",
       "</tr>\n",
       "<tr>\n",
       "  <th>Df Residuals:</th>          <td>  6119</td>      <th>  BIC:               </th> <td>5.211e+04</td>\n",
       "</tr>\n",
       "<tr>\n",
       "  <th>Df Model:</th>              <td>     1</td>      <th>                     </th>     <td> </td>    \n",
       "</tr>\n",
       "<tr>\n",
       "  <th>Covariance Type:</th>      <td>nonrobust</td>    <th>                     </th>     <td> </td>    \n",
       "</tr>\n",
       "</table>\n",
       "<table class=\"simpletable\">\n",
       "<tr>\n",
       "      <td></td>         <th>coef</th>     <th>std err</th>      <th>t</th>      <th>P>|t|</th> <th>[95.0% Conf. Int.]</th> \n",
       "</tr>\n",
       "<tr>\n",
       "  <th>Intercept</th> <td>  123.5216</td> <td>    0.469</td> <td>  263.418</td> <td> 0.000</td> <td>  122.602   124.441</td>\n",
       "</tr>\n",
       "<tr>\n",
       "  <th>Score</th>     <td>   -0.6538</td> <td>    0.008</td> <td>  -85.189</td> <td> 0.000</td> <td>   -0.669    -0.639</td>\n",
       "</tr>\n",
       "</table>\n",
       "<table class=\"simpletable\">\n",
       "<tr>\n",
       "  <th>Omnibus:</th>       <td>359.849</td> <th>  Durbin-Watson:     </th> <td>   1.666</td> \n",
       "</tr>\n",
       "<tr>\n",
       "  <th>Prob(Omnibus):</th> <td> 0.000</td>  <th>  Jarque-Bera (JB):  </th> <td> 576.092</td> \n",
       "</tr>\n",
       "<tr>\n",
       "  <th>Skew:</th>          <td>-0.482</td>  <th>  Prob(JB):          </th> <td>8.00e-126</td>\n",
       "</tr>\n",
       "<tr>\n",
       "  <th>Kurtosis:</th>      <td> 4.153</td>  <th>  Cond. No.          </th> <td>    131.</td> \n",
       "</tr>\n",
       "</table>"
      ],
      "text/plain": [
       "<class 'statsmodels.iolib.summary.Summary'>\n",
       "\"\"\"\n",
       "                            OLS Regression Results                            \n",
       "==============================================================================\n",
       "Dep. Variable:                    EUI   R-squared:                       0.543\n",
       "Model:                            OLS   Adj. R-squared:                  0.542\n",
       "Method:                 Least Squares   F-statistic:                     7257.\n",
       "Date:                Tue, 14 Nov 2017   Prob (F-statistic):               0.00\n",
       "Time:                        16:21:18   Log-Likelihood:                -26047.\n",
       "No. Observations:                6121   AIC:                         5.210e+04\n",
       "Df Residuals:                    6119   BIC:                         5.211e+04\n",
       "Df Model:                           1                                         \n",
       "Covariance Type:            nonrobust                                         \n",
       "==============================================================================\n",
       "                 coef    std err          t      P>|t|      [95.0% Conf. Int.]\n",
       "------------------------------------------------------------------------------\n",
       "Intercept    123.5216      0.469    263.418      0.000       122.602   124.441\n",
       "Score         -0.6538      0.008    -85.189      0.000        -0.669    -0.639\n",
       "==============================================================================\n",
       "Omnibus:                      359.849   Durbin-Watson:                   1.666\n",
       "Prob(Omnibus):                  0.000   Jarque-Bera (JB):              576.092\n",
       "Skew:                          -0.482   Prob(JB):                    8.00e-126\n",
       "Kurtosis:                       4.153   Cond. No.                         131.\n",
       "==============================================================================\n",
       "\n",
       "Warnings:\n",
       "[1] Standard Errors assume that the covariance matrix of the errors is correctly specified.\n",
       "\"\"\""
      ]
     },
     "execution_count": 35,
     "metadata": {},
     "output_type": "execute_result"
    }
   ],
   "source": [
    "lm = smf.ols(formula='EUI~Score',data=df).fit()\n",
    "lm.summary()"
   ]
  },
  {
   "cell_type": "markdown",
   "metadata": {},
   "source": [
    "## Plot the EUI, Energy Score and the linear regression fit line"
   ]
  },
  {
   "cell_type": "code",
   "execution_count": 45,
   "metadata": {
    "scrolled": false
   },
   "outputs": [
    {
     "data": {
      "image/png": "[encoded data removed]",
      "text/plain": [
       "<matplotlib.figure.Figure at 0x7fa5be5c6510>"
      ]
     },
     "metadata": {},
     "output_type": "display_data"
    }
   ],
   "source": [
    "fig = pl.figure(figsize=(15,8))\n",
    "pl.scatter(df['Score'], df['EUI'],color = \"blue\", label = \"Observations\")\n",
    "pl.plot(df['Score'],lm.predict(),color = \"red\", label = 'Fit line')\n",
    "pl.xlabel('EUI', fontsize = 15)\n",
    "pl.ylabel('Energy Star Score', fontsize = 15)\n",
    "pl.legend(loc='best', fontsize = 18)\n",
    "pl.show()\n"
   ]
  },
  {
   "cell_type": "markdown",
   "metadata": {},
   "source": [
    "## Figure 1:  The plot of EUI, Energy star score of the mutifamily housing reported in LL84 in 2014 and the linear regression fit line. The R-square is 0.543 which shows that there is a not very strong linear correlation between EUI and Energy score. However when we directly look at the plot, we can easily find there is a general negative correlation between the two variables"
   ]
  },
  {
   "cell_type": "code",
   "execution_count": null,
   "metadata": {},
   "outputs": [],
   "source": []
  }
 ],
 "metadata": {
  "kernelspec": {
   "display_name": "PUI2016_Python2",
   "language": "python",
   "name": "pui2016_python2"
  },
  "language_info": {
   "codemirror_mode": {
    "name": "ipython",
    "version": 2
   },
   "file_extension": ".py",
   "mimetype": "text/x-python",
   "name": "python",
   "nbconvert_exporter": "python",
   "pygments_lexer": "ipython2",
   "version": "2.7.12"
  }
 },
 "nbformat": 4,
 "nbformat_minor": 2
}
